{
 "cells": [
  {
   "cell_type": "code",
   "execution_count": 9,
   "metadata": {},
   "outputs": [],
   "source": [
    "from bs4 import BeautifulSoup\n",
    "import requests\n",
    "import numpy as np\n",
    "import pandas as pd\n",
    "from geopy.geocoders import Nominatim\n",
    "from geopy import location\n",
    "import folium"
   ]
  },
  {
   "cell_type": "code",
   "execution_count": 2,
   "metadata": {
    "collapsed": true
   },
   "outputs": [],
   "source": [
    "url = 'https://en.wikipedia.org/wiki/List_of_postal_codes_of_Canada:_M'\n",
    "gets = requests.get(url)\n",
    "soup = BeautifulSoup(gets.content, 'html.parser')\n",
    "table = soup.find('table')\n",
    "t_r = table.find_all('tr')\n",
    "rows = []\n",
    "for tr in t_r:\n",
    "    i = tr.find_all('td')\n",
    "    if i:\n",
    "        rows.append(i)\n",
    "        \n",
    "lst = []\n",
    "for row in rows:\n",
    "    postalcode = row[0].text.rstrip()\n",
    "    borough = row[1].text.rstrip()\n",
    "    neighborhood = row[2].text.rstrip()\n",
    "    if borough != 'Not assigned':  #Only process the cells that have an assigned borough. Ignore cells with a borough that is Not assigned.\n",
    "        if neighborhood == 'Not assigned':  #If a cell has a borough but a Not assigned neighborhood, then the neighborhood will be the same as the borough \n",
    "            neighborhood = borough   \n",
    "        lst.append([postalcode, borough, neighborhood])"
   ]
  },
  {
   "cell_type": "code",
   "execution_count": 4,
   "metadata": {
    "collapsed": true
   },
   "outputs": [],
   "source": [
    "cols = ['PostalCode', 'Borough', 'Neighborhood']\n",
    "df = pd.DataFrame(lst, columns=cols)\n",
    "\n",
    "df = df.groupby('PostalCode').agg(\n",
    "    {\n",
    "        'Borough':'first', \n",
    "        'Neighborhood': ', '.join,}\n",
    "    ).reset_index()\n"
   ]
  },
  {
   "cell_type": "markdown",
   "metadata": {},
   "source": [
    "Reading CSV file from link \"https://cocl.us/Geospatial_data\" to get the latitude and longitude of each neighborhood and add them to our data frame"
   ]
  },
  {
   "cell_type": "code",
   "execution_count": 6,
   "metadata": {},
   "outputs": [],
   "source": [
    "df2= pd.read_csv('Geospatial_Coordinates.csv') # Reading csv\n",
    "df['Latitude'] = np.nan\n",
    "df['Longitude'] = np.nan\n",
    "for i in df.index:\n",
    "    ci = df2['Postal Code'] == df.loc[i, 'PostalCode']\n",
    "    df.at[i, 'Latitude'] = df2.loc[ci, 'Latitude'].values\n",
    "    df.at[i, 'Longitude'] = df2.loc[ci, 'Longitude'].values"
   ]
  },
  {
   "cell_type": "code",
   "execution_count": null,
   "metadata": {
    "collapsed": true
   },
   "outputs": [],
   "source": [
    "geolocator = Nominatim(user_agent=\"coursera\")\n",
    "add = 'Toronto'\n",
    "try:\n",
    "    location = geolocator.geocode(address)\n",
    "    latitude = location.latitude\n",
    "    longitude = location.longitude\n",
    "    print('The geograpical coordinates of {} are {}, {}.'.format(add, latitude, longitude))\n",
    "except AttributeError:\n",
    "    print('Cannot find: {}, will drop index: {}'.format(add, index))\n",
    "\n",
    "map_ = folium.Map(location=[latitude, longitude], zoom_start=12)\n",
    "\n",
    "#adding markers to map usin labels\n",
    "for lat, lng, label in zip(df2['Latitude'], df2['Longitude'], df2['Postal Code']):\n",
    "    label = folium.Popup(label)\n",
    "    folium.CircleMarker(\n",
    "        [lat, lng],\n",
    "        radius=5,\n",
    "        popup=label,\n",
    "        color='blue',\n",
    "        fill_color='#3586cc',\n",
    "        fill_opacity=0.5).add_to(map_)  \n",
    "    \n",
    "map_"
   ]
  }
 ],
 "metadata": {
  "kernelspec": {
   "display_name": "Python 2",
   "language": "python",
   "name": "python2"
  },
  "language_info": {
   "codemirror_mode": {
    "name": "ipython",
    "version": 2
   },
   "file_extension": ".py",
   "mimetype": "text/x-python",
   "name": "python",
   "nbconvert_exporter": "python",
   "pygments_lexer": "ipython2",
   "version": "2.7.13"
  }
 },
 "nbformat": 4,
 "nbformat_minor": 2
}
